{
 "cells": [
  {
   "cell_type": "code",
   "execution_count": 3,
   "metadata": {},
   "outputs": [],
   "source": [
    "import os, sys, json, datetime, re  # Provides OS-dependent functionality, system-specific parameters, JSON handling, and date/time manipulation\n",
    "import pandas as pd             # Provides data structures and data analysis tools\n",
    "import numpy as np              # Supports large, multi-dimensional arrays and matrices\n",
    "import requests\n",
    "import time\n",
    "from tqdm import tqdm\n",
    "import glob as glob\n",
    "\n",
    "#thi data contants\n",
    "from cprl_functions.defined_functions import *\n",
    "from cprl_functions.state_capture import *\n",
    "from cprl_functions.text_printing import bordered\n",
    "from cprl_functions.data_packet_defs import *\n",
    "\n",
    "from pathlib import Path\n"
   ]
  },
  {
   "cell_type": "code",
   "execution_count": null,
   "metadata": {},
   "outputs": [],
   "source": []
  },
  {
   "cell_type": "code",
   "execution_count": 15,
   "metadata": {},
   "outputs": [
    {
     "name": "stdout",
     "output_type": "stream",
     "text": [
      "    Graphic #                                                                        Data Set\n",
      "0         NaN                                                          Per-Pupil Expenditure \n",
      "1         NaN                                                           Student-Teacher Ratio\n",
      "2         1.3                                        K-12 Enrollment, by Socioeconomic Status\n",
      "3         1.4                                                      K-12 Enrollment, by Locale\n",
      "4         3.1                                            NAEP 4th Grade Reading Proficiency %\n",
      "5         3.2                                               NAEP 4th Grade Math Proficiency %\n",
      "6         3.3                                            NAEP 8th Grade Reading Proficiency %\n",
      "7         3.4                                               NAEP 8th Grade Math Proficiency %\n",
      "8         4.1                                    NAEP Proficiency % by Region_Grade 4 Reading\n",
      "9         4.5                                              NAEP vs. State Cut Score - Reading\n",
      "10        4.6                                                 NAEP vs. State Cut Score - Math\n",
      "11        5.1                         NAEP 4th Grade Reading Proficiency %, by Race/Ethnicity\n",
      "12        5.2                            NAEP 4th Grade Math Proficiency %, by Race/Ethnicity\n",
      "13        5.3  NAEP 4th Grade Reading Proficiency %, by Eligibility for Free or Reduced Lunch\n",
      "14        5.4     NAEP 4th Grade Math Proficiency %, by Eligibility for Free or Reduced Lunch\n",
      "15        5.5   NAEP 4th Grade Reading Proficiency %, , by Status as English-Language Learner\n",
      "16        5.6        NAEP 4th Grade Math Proficiency %, by Status as English-Language Learner\n",
      "17        5.7                      NAEP 4th Grade Reading Proficiency %, by Disability Status\n",
      "18        5.8                         NAEP 4th Grade Math Proficiency %, by Disability Status\n",
      "19        7.1                                                       Public HS Graduation Rate\n",
      "20        7.2                                           HS Graduation Rate, by Race/Ethnicity\n",
      "21        7.3                                          HS Graduation Rate, by Other Subgroups\n",
      "22        8.1                                                                    Dropout Rate\n",
      "23        8.2                                             CTE Participation by Race/Ethnicity\n",
      "24        8.2                                             CTE Participation by Other Subgroup\n",
      "25        8.3                                                    % of Schools with AP Courses\n",
      "26        8.4                                         # of AP Exams per 1,000 11-12th Graders\n",
      "27        8.5                                               % of AP Exams with Passing Grades\n"
     ]
    }
   ],
   "source": [
    "import data_collection.pull_data as data_pull\n",
    "#data collection file path\n",
    "dc_path = data_pull.get_data_files().get('data_collection')\n",
    "\n",
    "#excel info\n",
    "# excel_file = pd.ExcelFile(dc_path,engine='calamine')\n",
    "# excel_file.sheet_names\n",
    "\n",
    "\n",
    "merge_tags = pd.read_excel(dc_path, sheet_name='merge_tags')\n",
    "# print(merge_tags.head().to_string(max_colwidth=30))\n",
    "\n",
    "graphics = pd.read_excel(dc_path, sheet_name='Graphics')\n",
    "print(graphics.to_string(columns=['Graphic #', 'Data Set']))\n",
    "\n",
    "# print(graphics['Graphic #'])"
   ]
  },
  {
   "cell_type": "code",
   "execution_count": 17,
   "metadata": {},
   "outputs": [
    {
     "name": "stdout",
     "output_type": "stream",
     "text": [
      "                            field      method                     Unnamed: 2\n",
      "0          Per-Pupil Expenditure         bulk  Table 236.65. Current expe...\n",
      "1           Student-Teacher Ratio        bulk  Table 2. Number of operati...\n",
      "2   Years - Student-Teacher Ratio        bulk                  year of above\n",
      "3   NAEP 4th Grade Math Profic...        bulk                           NAEP\n",
      "4   State Rank - NAEP 4th Grad...        bulk                           NAEP\n",
      "5   NAEP 4th Grade Reading Pro...        bulk                           NAEP\n",
      "6   State Rank - NAEP 4th Grad...        bulk                           NAEP\n",
      "7   NAEP 8th Grade Math Profic...        bulk                           NAEP\n",
      "8   State Rank - NAEP 8th Grad...        bulk                           NAEP\n",
      "9   NAEP 8th Grade Reading Pro...        bulk                           NAEP\n",
      "10  State Rank - NAEP 8th Grad...        bulk                           NAEP\n",
      "11                  Avg ACT Score        bulk  Source: https://www.act.or...\n",
      "12                  Avg SAT Score        bulk  Source: https://reports.co...\n",
      "13  Est. % of Graduates Partic...        bulk  Source: https://reports.co...\n",
      "14  Est.  % of Graduates Parti...        bulk  Source: https://www.act.or...\n",
      "15  State Rank - Per-Pupil Exp...  calculated                            NaN\n",
      "16  State Rank - Student-Teach...  calculated                            NaN\n",
      "17  State Rank - Public HS Gra...  calculated                            NaN\n",
      "18            # of Public Schools      manual                            NaN\n",
      "19   # of Public School Districts      manual                            NaN\n",
      "20      Public HS Graduation Rate      manual                            NaN\n",
      "21          State Assessment Text      manual                            NaN\n",
      "22  Years - K-12 Enrollment by...        meta                            NaN\n",
      "23  Years - K-12 Enrollment by...        meta                            NaN\n",
      "24  Years - Chronic Absenteeis...        meta                            NaN\n",
      "25  Years - Chronic Absenteeis...        meta                            NaN\n",
      "26                       00 State          na                            NaN\n",
      "27                       Initials          na                            NaN\n",
      "28            ACT/SAT graph title         NaN                            NaN\n",
      "29                   @number_trad         NaN                            NaN\n",
      "30                     @k-12_race         NaN                            NaN\n",
      "31                      @k-12_frl         NaN                            NaN\n",
      "32               @k-12_enrollment         NaN                            NaN\n",
      "33      @state-achievement_grade4         NaN                            NaN\n",
      "34      @state-achievement_grade8         NaN                            NaN\n",
      "35           @NAEP_grade4_reading         NaN                            NaN\n",
      "36              @NAEP_grade4_math         NaN                            NaN\n",
      "37           @NAEP_grade8_reading         NaN                            NaN\n",
      "38              @NAEP_grade8_math         NaN                            NaN\n",
      "39                 @NAEP_regional         NaN                            NaN\n",
      "40  @NAEP_state_proficiency_re...         NaN                            NaN\n",
      "41   @NAEP_state_proficiency_math         NaN                            NaN\n",
      "42         @NAEP_RE_grade4reading         NaN                            NaN\n",
      "43            @NAEP_RE_grade4math         NaN                            NaN\n",
      "44              @NAEP_FRL_Reading         NaN                            NaN\n",
      "45                 @NAEP_FRL_Math         NaN                            NaN\n",
      "46              @NAEP_ELL_Reading         NaN                            NaN\n",
      "47                 @NAEP_ELL_Math         NaN                            NaN\n",
      "48              @NAEP_SWD_Reading         NaN                            NaN\n",
      "49                 @NAEP_SWD_Math         NaN                            NaN\n",
      "50      @chronic_absenteeism_race         NaN                            NaN\n",
      "51     @chronic_absenteeism_other         NaN                            NaN\n",
      "52                    @suspension         NaN                            NaN\n",
      "53                       @HS_grad         NaN                            NaN\n",
      "54                  @HS_grad_race         NaN                            NaN\n",
      "55                 @HS_grad_other         NaN                            NaN\n",
      "56                      @dropouts         NaN                            NaN\n",
      "57                      @ccr_race         NaN                            NaN\n",
      "58                     @ccr_other         NaN                            NaN\n",
      "59                            @AP         NaN                            NaN\n",
      "60         @college_entrance_exam         NaN                            NaN\n"
     ]
    }
   ],
   "source": [
    "print(merge_tags.to_string(max_colwidth=30))"
   ]
  }
 ],
 "metadata": {
  "kernelspec": {
   "display_name": "hunt_env",
   "language": "python",
   "name": "python3"
  },
  "language_info": {
   "codemirror_mode": {
    "name": "ipython",
    "version": 3
   },
   "file_extension": ".py",
   "mimetype": "text/x-python",
   "name": "python",
   "nbconvert_exporter": "python",
   "pygments_lexer": "ipython3",
   "version": "3.12.5"
  }
 },
 "nbformat": 4,
 "nbformat_minor": 2
}
