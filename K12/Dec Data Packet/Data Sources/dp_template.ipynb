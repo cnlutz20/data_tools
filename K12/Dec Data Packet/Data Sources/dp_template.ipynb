{
 "cells": [
  {
   "cell_type": "markdown",
   "id": "35cc412a-0ff0-4515-aa20-4882de186fe6",
   "metadata": {},
   "source": [
    "# Data Analysis & Visualization Notebook\n",
    "\n",
    "## Overview\n",
    "\n",
    "Brief description of your analysis objectives and the data sources\n",
    "you’ll be working with.\n",
    "\n",
    "## Setup & Dependencies\n"
   ]
  },
  {
   "cell_type": "code",
   "execution_count": 1,
   "id": "d332ba8d",
   "metadata": {},
   "outputs": [],
   "source": [
    "import os, sys, json, datetime, re  # Provides OS-dependent functionality, system-specific parameters, JSON handling, and date/time manipulation\n",
    "import pandas as pd             # Provides data structures and data analysis tools\n",
    "import numpy as np              # Supports large, multi-dimensional arrays and matrices\n",
    "import requests\n",
    "import time\n",
    "from tqdm import tqdm\n",
    "import glob as glob\n"
   ]
  },
  {
   "cell_type": "code",
   "execution_count": null,
   "id": "27d60ee8",
   "metadata": {},
   "outputs": [
    {
     "name": "stdout",
     "output_type": "stream",
     "text": [
      "{'data_collection': WindowsPath('C:/Users/clutz/THE HUNT INSTITUTE/The Hunt Institute Team Site - Documents/Policy Team/Data Packets/k12/data/k12_state_data_collection.xlsx'), 'naep': WindowsPath('C:/Users/clutz/THE HUNT INSTITUTE/The Hunt Institute Team Site - Documents/Policy Team/Data Packets/k12/data/SL_NAEP Graphics_2025.xlsm')}\n"
     ]
    }
   ],
   "source": [
    "#Import Data\n",
    "###################\n",
    "import data_collection.pull_data as data_pull\n",
    "\n",
    "files_dict = data_pull.get_data_files()\n"
   ]
  },
  {
   "cell_type": "code",
   "execution_count": null,
   "metadata": {},
   "outputs": [],
   "source": [
    "data_directory = Path(r'C:\\Users\\clutz\\THE HUNT INSTITUTE\\The Hunt Institute Team Site - Documents\\Policy Team\\Data Packets\\k12\\data')\n",
    "def get_files():\n",
    "    file_dict = {}\n",
    "    for file in data_directory.iterdir():\n",
    "        print(file.name)\n",
    "        if 'naep' in file.name.lower():\n",
    "            naep_file = data_directory / file.name\n",
    "            file_dict['naep'] = naep_file\n",
    "        elif 'data_collection' in file.name.lower():\n",
    "            data_collection_file = data_directory / file.name\n",
    "            file_dict['data_collection'] = data_collection_file\n",
    "        \n",
    "\n",
    "    return file_dict\n",
    "\n",
    "\n",
    "        \n",
    "\n",
    "\n",
    "\n",
    "# with open(data_directory / naep_file, 'r') as file:\n",
    "#     excel_file = pd.ExcelFile(file,engine='calamine')\n",
    "#     for sheet in excel_file.sheet_names:\n",
    "#         if '- 2024' in sheet:\n",
    "#             print(sheet) \n",
    "\n",
    "excel_file = pd.ExcelFile(data_directory / data_collection_file, engine='calamine')\n",
    "for sheet in excel_file.sheet_names:\n",
    "    print(sheet)\n",
    "    if 'merge' in sheet.lower():\n",
    "        merge_tags = excel_file.parse(sheet_name=sheet)\n",
    "        break\n",
    "\n",
    "# print(merge_tags.to_string())\n",
    "\n",
    "\n",
    "\n",
    "# glob_pat = os.path.join(filepath, 'NAEP*.xlsx')\n",
    "# files = glob.glob(glob_pat)\n",
    "# print(merge_tags)\n",
    "# for file in filepath:\n",
    "# pd.ExcelFile()"
   ]
  },
  {
   "cell_type": "markdown",
   "id": "cd0d432b",
   "metadata": {},
   "source": [
    "# Data Sources"
   ]
  },
  {
   "cell_type": "markdown",
   "id": "071d30d2",
   "metadata": {},
   "source": [
    "## ACT"
   ]
  },
  {
   "cell_type": "code",
   "execution_count": null,
   "id": "b4f55fc8",
   "metadata": {},
   "outputs": [
    {
     "ename": "AttributeError",
     "evalue": "module 'data_collection.pull_data' has no attribute 'get_act_data'",
     "output_type": "error",
     "traceback": [
      "\u001b[1;31m---------------------------------------------------------------------------\u001b[0m",
      "\u001b[1;31mAttributeError\u001b[0m                            Traceback (most recent call last)",
      "Cell \u001b[1;32mIn[4], line 2\u001b[0m\n\u001b[0;32m      1\u001b[0m \u001b[38;5;66;03m# pulls in act data with average values broken down by overall composite and subjects\u001b[39;00m\n\u001b[1;32m----> 2\u001b[0m act_avg_scores_df \u001b[38;5;241m=\u001b[39m \u001b[43mdata_pull\u001b[49m\u001b[38;5;241;43m.\u001b[39;49m\u001b[43mget_act_data\u001b[49m()\n\u001b[0;32m      4\u001b[0m \u001b[38;5;66;03m#data preview\u001b[39;00m\n\u001b[0;32m      5\u001b[0m \u001b[38;5;28mprint\u001b[39m(act_avg_scores_df\u001b[38;5;241m.\u001b[39mto_string())\n",
      "\u001b[1;31mAttributeError\u001b[0m: module 'data_collection.pull_data' has no attribute 'get_act_data'"
     ]
    }
   ],
   "source": [
    "# pulls in act data with average values broken down by overall composite and subjects\n",
    "act_avg_scores_df = data_pull.get_act_data()\n",
    "\n",
    "#data preview\n",
    "# print(act_avg_scores_df.to_string())\n",
    "\n"
   ]
  },
  {
   "cell_type": "markdown",
   "id": "b41e66c6",
   "metadata": {},
   "source": [
    "# Graphs"
   ]
  },
  {
   "cell_type": "markdown",
   "id": "b40f2db6",
   "metadata": {},
   "source": [
    "## Page 1"
   ]
  },
  {
   "cell_type": "markdown",
   "id": "c95ed506",
   "metadata": {},
   "source": [
    "### 1.3: K-12 Enrollment, by Socioeconomic Status"
   ]
  },
  {
   "cell_type": "markdown",
   "id": "7a6a8e15",
   "metadata": {},
   "source": [
    "### 1.4: K-12 Enrollment, by Locale\n"
   ]
  },
  {
   "cell_type": "markdown",
   "id": "abf9d2e2",
   "metadata": {},
   "source": [
    "## Page 3"
   ]
  },
  {
   "cell_type": "markdown",
   "id": "68da462d",
   "metadata": {},
   "source": [
    "### 3.1:  NAEP 4th Grade Reading Proficiency %"
   ]
  },
  {
   "cell_type": "markdown",
   "id": "8b348701",
   "metadata": {},
   "source": [
    "### 3.2: NAEP 4th Grade Math Proficiency %"
   ]
  },
  {
   "cell_type": "markdown",
   "id": "02701a59",
   "metadata": {},
   "source": [
    "\n",
    "### 3.1: NAEP 4th Grade Reading Proficiency %\n"
   ]
  },
  {
   "cell_type": "markdown",
   "id": "247a639b",
   "metadata": {},
   "source": [
    "### 3.2: NAEP 4th Grade Math Proficiency %\n"
   ]
  },
  {
   "cell_type": "markdown",
   "id": "0dfbe4f3",
   "metadata": {},
   "source": [
    "### 3.3: NAEP 8th Grade Reading Proficiency %"
   ]
  },
  {
   "cell_type": "markdown",
   "id": "7f32ed55",
   "metadata": {},
   "source": [
    "### 3.4: NAEP 8th Grade Math Proficiency %"
   ]
  },
  {
   "cell_type": "markdown",
   "id": "eca160a0",
   "metadata": {},
   "source": [
    "## Page 4"
   ]
  },
  {
   "cell_type": "markdown",
   "id": "25d31c89",
   "metadata": {},
   "source": [
    "### 4.1: NAEP Proficiency % by Region_Grade 4 Reading\n"
   ]
  },
  {
   "cell_type": "markdown",
   "id": "402ad166",
   "metadata": {},
   "source": [
    "### 4.5: NAEP vs. State Cut Score - Reading\n"
   ]
  },
  {
   "cell_type": "markdown",
   "id": "1fc241c7",
   "metadata": {},
   "source": [
    "### 4.6: NAEP vs. State Cut Score - Math\n"
   ]
  },
  {
   "cell_type": "markdown",
   "id": "3d9580f8",
   "metadata": {},
   "source": [
    "## Page 5"
   ]
  },
  {
   "cell_type": "markdown",
   "id": "ec2073b5",
   "metadata": {},
   "source": [
    "### 5.1: NAEP 4th Grade Reading Proficiency %, by Race/Ethnicity\n"
   ]
  },
  {
   "cell_type": "markdown",
   "id": "74dbf675",
   "metadata": {},
   "source": [
    "###  5.2 NAEP 4th Grade Math Proficiency %, by Race/Ethnicity\n"
   ]
  },
  {
   "cell_type": "markdown",
   "id": "56e70c28",
   "metadata": {},
   "source": [
    "### 5.3: NAEP 4th Grade Reading Proficiency %, by Eligibility for Free or Reduced Lunch"
   ]
  },
  {
   "cell_type": "markdown",
   "id": "5535daa7",
   "metadata": {},
   "source": [
    "### 5.4: NAEP 4th Grade Math Proficiency %, by Eligibility for Free or Reduced Lunch"
   ]
  },
  {
   "cell_type": "markdown",
   "id": "d269713f",
   "metadata": {},
   "source": [
    "### 5.5: NAEP 4th Grade Reading Proficiency %, , by Status as English-Language Learner"
   ]
  },
  {
   "cell_type": "markdown",
   "id": "385adeb2",
   "metadata": {},
   "source": [
    "### 5.6: NAEP 4th Grade Math Proficiency %, by Status as English-Language Learner"
   ]
  },
  {
   "cell_type": "markdown",
   "id": "5b369300",
   "metadata": {},
   "source": [
    "### 5.7: NAEP 4th Grade Reading Proficiency %, by Disability Status"
   ]
  },
  {
   "cell_type": "markdown",
   "id": "3c5ee59d",
   "metadata": {},
   "source": [
    "### 5.8: NAEP 4th Grade Math Proficiency %, by Disability Status"
   ]
  },
  {
   "cell_type": "markdown",
   "id": "b32066c9",
   "metadata": {},
   "source": [
    "## Page 7"
   ]
  },
  {
   "cell_type": "markdown",
   "id": "7588020f",
   "metadata": {},
   "source": [
    "### 7.1: Public HS Graduation Rat"
   ]
  },
  {
   "cell_type": "markdown",
   "id": "79273339",
   "metadata": {},
   "source": [
    "### 7.2: HS Graduation Rate, by Race/Ethnicity"
   ]
  },
  {
   "cell_type": "markdown",
   "id": "7c66566e",
   "metadata": {},
   "source": [
    "### 7.3: HS Graduation Rate, by Other Subgroups"
   ]
  },
  {
   "cell_type": "markdown",
   "id": "4832d9ea",
   "metadata": {},
   "source": [
    "## Page 8"
   ]
  },
  {
   "cell_type": "markdown",
   "id": "39664efd",
   "metadata": {},
   "source": [
    "### 8.1: Dropout Rate"
   ]
  },
  {
   "cell_type": "markdown",
   "id": "e5d15cac",
   "metadata": {},
   "source": [
    "### 8.2: CTE Participation by Race/Ethnicity"
   ]
  },
  {
   "cell_type": "markdown",
   "id": "a41379f8",
   "metadata": {},
   "source": [
    "### 8.2: CTE Participation by Other Subgroup"
   ]
  },
  {
   "cell_type": "markdown",
   "id": "08fb8fbc",
   "metadata": {},
   "source": [
    "### 8.3: % of Schools with AP Courses"
   ]
  },
  {
   "cell_type": "markdown",
   "id": "fddcd014",
   "metadata": {},
   "source": [
    "### 8.4: # of AP Exams per 1,000 11-12th Graders"
   ]
  },
  {
   "cell_type": "markdown",
   "id": "b71bb518",
   "metadata": {},
   "source": [
    "### 8.5: % of AP Exams with Passing Grades"
   ]
  }
 ],
 "metadata": {
  "kernelspec": {
   "display_name": "hunt_env",
   "language": "python",
   "name": "python3"
  },
  "language_info": {
   "codemirror_mode": {
    "name": "ipython",
    "version": 3
   },
   "file_extension": ".py",
   "mimetype": "text/x-python",
   "name": "python",
   "nbconvert_exporter": "python",
   "pygments_lexer": "ipython3",
   "version": "3.12.5"
  }
 },
 "nbformat": 4,
 "nbformat_minor": 5
}
