{
 "cells": [
  {
   "cell_type": "markdown",
   "id": "35cc412a-0ff0-4515-aa20-4882de186fe6",
   "metadata": {},
   "source": [
    "# Data Analysis & Visualization Notebook\n",
    "\n",
    "## Overview\n",
    "\n",
    "Brief description of your analysis objectives and the data sources\n",
    "you’ll be working with.\n",
    "\n",
    "## Setup & Dependencies\n"
   ]
  },
  {
   "cell_type": "code",
   "execution_count": null,
   "id": "d332ba8d",
   "metadata": {},
   "outputs": [],
   "source": [
    "import os, sys, json, datetime, re  # Provides OS-dependent functionality, system-specific parameters, JSON handling, and date/time manipulation\n",
    "import pandas as pd             # Provides data structures and data analysis tools\n",
    "import numpy as np              # Supports large, multi-dimensional arrays and matrices\n",
    "import requests\n",
    "import time\n",
    "from tqdm import tqdm\n",
    "import glob as glob\n"
   ]
  },
  {
   "cell_type": "code",
   "execution_count": null,
   "id": "27d60ee8",
   "metadata": {},
   "outputs": [],
   "source": [
    "import pandas as pd\n",
    "\n",
    "df = pd.DataFrame({\n",
    "    'Name': ['Alice', 'Bob', 'Charlie'],\n",
    "    'Role': ['Engineer', 'Designer', 'Manager']\n",
    "})\n",
    "\n",
    "formatters = {\n",
    "    'Name': lambda x: f\"{x:<10}\",\n",
    "    'Role': lambda x: f\"{x:<15}\"\n",
    "}\n",
    "\n",
    "print(df.to_string(formatters=formatters, index=False))\n"
   ]
  },
  {
   "cell_type": "code",
   "execution_count": 18,
   "id": "689efc4c",
   "metadata": {},
   "outputs": [],
   "source": [
    "df = pd.read_csv('enrollment_data.csv')\n",
    "df.columns = ['state', 'source_link']"
   ]
  },
  {
   "cell_type": "code",
   "execution_count": 22,
   "id": "5ca1e297",
   "metadata": {},
   "outputs": [
    {
     "name": "stdout",
     "output_type": "stream",
     "text": [
      "https://reportcard.alsde.edu/OverallScorePage.aspx?ReportYear=2021&SystemCode=000&SchoolCode=0000\n",
      "https://education.alaska.gov/data-center\n",
      "https://azreportcards.azed.gov/state-reports\n",
      "https://adedata.arkansas.gov/statewide/ReportList/Schools/EnrollmentByGrade.aspx?year=33&search=&pagesize=10\n",
      "https://dq.cde.ca.gov/dataquest/dqcensus/EnrCharterYears.aspx?cds=00&agglevel=state&year=2021-22\n",
      "https://www.cde.state.co.us/communications/colorado-education-facts-and-figures\n",
      "https://edsight.ct.gov/SASStoredProcess/guest?_program=%2FCTDOE%2FEdSight%2FRelease%2FReporting%2FPublic%2FReports%2FStoredProcesses%2FConnecticutReportCard&_district=State%20of%20Connecticut&_select=Submit\n",
      "https://reportcard.doe.k12.de.us/detail.html#aboutpage?scope=state&district=0&school=0\n",
      "https://dcps.dc.gov/page/dcps-glance-enrollment\n",
      "https://idahoschools.org/state/ID\n",
      "https://www.illinoisreportcard.com/State.aspx?source=studentcharacteristics&source2=enrollment&Stateid=IL\n",
      "https://www.in.gov/doe/it/data-center-and-reports/?utm_content=&utm_medium=email&utm_name=&utm_source=govdelivery&utm_term=\n",
      "https://educateiowa.gov/data-reporting/data-reporting-pk-12/certified-enrollment/public-school-district-certified-enrollment\n",
      "https://www.maine.gov/doe/dashboard\n",
      "https://reportcard.msde.maryland.gov/Graphs/#/Demographics/Enrollment/3/17/6/99/XXXX/2022\n",
      "https://profiles.doe.mass.edu/general/generalstate.aspx?topNavID=1&leftNavId=100&orgcode=00000000&orgtypecode=0\n",
      "https://www.mischooldata.org/student-enrollment-counts-report/\n",
      "https://public.education.mn.gov/MDEAnalytics/DataTopic.jsp?TOPICID=2\n",
      "https://apps.dese.mo.gov/MCDS/Visualizations.aspx?id=28\n",
      "http://nevadareportcard.nv.gov/DI/nv/2022\n",
      "https://www.nj.gov/education/doedata/enr/\n",
      "https://webnew.ped.state.nm.us/bureaus/information-technology/stars/\n",
      "http://apps.schools.nc.gov/ords/f?p=145:11:::NO\n",
      "https://insights.nd.gov/Education/State/Enrollment\n",
      "https://reports.education.ohio.gov/report/report-card-data-state-enrollment-by-student-demographic\n",
      "https://sde.ok.gov/documents/state-student-public-enrollment\n",
      "https://www.oregon.gov/ode/reports-and-data/students/Pages/Student-Enrollment-Reports.aspx\n",
      "https://www.education.pa.gov/DataAndReporting/Enrollment/Pages/PublicSchEnrReports.aspx\n",
      "https://www.eride.ri.gov/reports/reports.asp\n",
      "https://ed.sc.gov/data/other/student-counts/active-student-headcounts/\n",
      "https://tdepublicschools.ondemand.sas.com/state\n",
      "https://tea.texas.gov/reports-and-data/school-performance/accountability-research/enroll-2022-23.pdf\n",
      "https://app.powerbigov.us/view?r=eyJrIjoiMzA2YWMyNjctODI0MS00YTEwLTllODctZGQ1YTE0Yjc5ZWY0IiwidCI6IjIwYjQ5MzNiLWJhYWQtNDMzYy05YzAyLTcwZWRjYzc1NTljNiJ9\n",
      "https://www.doe.virginia.gov/state-board-data-funding/data-reports/statistics-reports/enrollment-demographics/fall-membership-data\n",
      "https://zoomwv.k12.wv.us/Dashboard/dashboard/2056\n",
      "https://reporting.edu.wyo.gov/ibi_apps/run.bip?BIP_REQUEST_TYPE=BIP_RUN&BIP_folder=IBFS%253A%252FWFC%252FRepository%252FPublic%252FStat2%252F&BIP_item=FallEnrollmentSummaryByGrade.htm\n"
     ]
    }
   ],
   "source": [
    "for row in df.itertuples(index=True):\n",
    "    print(row.source_link)"
   ]
  },
  {
   "cell_type": "code",
   "execution_count": null,
   "id": "2599a7ca",
   "metadata": {},
   "outputs": [
    {
     "name": "stdout",
     "output_type": "stream",
     "text": [
      "   state                 source_link                                                                                                                                                                                                    \n",
      "0                Alabama                                                                                                               https://reportcard.alsde.edu/OverallScorePage.aspx?ReportYear=2021&SystemCode=000&SchoolCode=0000\n",
      "1                 Alaska                                                                                                                                                                        https://education.alaska.gov/data-center\n",
      "2                Arizona                                                                                                                                                                    https://azreportcards.azed.gov/state-reports\n",
      "3               Arkansas                                                                                                    https://adedata.arkansas.gov/statewide/ReportList/Schools/EnrollmentByGrade.aspx?year=33&search=&pagesize=10\n",
      "4             California                                                                                                                https://dq.cde.ca.gov/dataquest/dqcensus/EnrCharterYears.aspx?cds=00&agglevel=state&year=2021-22\n",
      "5               Colorado                                                                                                                                 https://www.cde.state.co.us/communications/colorado-education-facts-and-figures\n",
      "6            Connecticut  https://edsight.ct.gov/SASStoredProcess/guest?_program=%2FCTDOE%2FEdSight%2FRelease%2FReporting%2FPublic%2FReports%2FStoredProcesses%2FConnecticutReportCard&_district=State%20of%20Connecticut&_select=Submit\n",
      "7               Delaware                                                                                                                          https://reportcard.doe.k12.de.us/detail.html#aboutpage?scope=state&district=0&school=0\n",
      "8   District of Columbia                                                                                                                                                                 https://dcps.dc.gov/page/dcps-glance-enrollment\n",
      "9                  Idaho                                                                                                                                                                               https://idahoschools.org/state/ID\n",
      "10              Illinois                                                                                                       https://www.illinoisreportcard.com/State.aspx?source=studentcharacteristics&source2=enrollment&Stateid=IL\n",
      "11               Indiana                                                                                     https://www.in.gov/doe/it/data-center-and-reports/?utm_content=&utm_medium=email&utm_name=&utm_source=govdelivery&utm_term=\n",
      "12                  Iowa                                                                                    https://educateiowa.gov/data-reporting/data-reporting-pk-12/certified-enrollment/public-school-district-certified-enrollment\n",
      "13                 Maine                                                                                                                                                                             https://www.maine.gov/doe/dashboard\n",
      "14              Maryland                                                                                                                       https://reportcard.msde.maryland.gov/Graphs/#/Demographics/Enrollment/3/17/6/99/XXXX/2022\n",
      "15         Massachusetts                                                                                                 https://profiles.doe.mass.edu/general/generalstate.aspx?topNavID=1&leftNavId=100&orgcode=00000000&orgtypecode=0\n",
      "16              Michigan                                                                                                                                                  https://www.mischooldata.org/student-enrollment-counts-report/\n",
      "17             Minnesota                                                                                                                                            https://public.education.mn.gov/MDEAnalytics/DataTopic.jsp?TOPICID=2\n",
      "18              Missouri                                                                                                                                                         https://apps.dese.mo.gov/MCDS/Visualizations.aspx?id=28\n",
      "19                Nevada                                                                                                                                                                       http://nevadareportcard.nv.gov/DI/nv/2022\n",
      "20            New Jersey                                                                                                                                                                       https://www.nj.gov/education/doedata/enr/\n",
      "21            New Mexico                                                                                                                                            https://webnew.ped.state.nm.us/bureaus/information-technology/stars/\n",
      "22        North Carolina                                                                                                                                                                 http://apps.schools.nc.gov/ords/f?p=145:11:::NO\n",
      "23          North Dakota                                                                                                                                                              https://insights.nd.gov/Education/State/Enrollment\n",
      "24                  Ohio                                                                                                              https://reports.education.ohio.gov/report/report-card-data-state-enrollment-by-student-demographic\n",
      "25              Oklahoma                                                                                                                                                    https://sde.ok.gov/documents/state-student-public-enrollment\n",
      "26                Oregon                                                                                                                      https://www.oregon.gov/ode/reports-and-data/students/Pages/Student-Enrollment-Reports.aspx\n",
      "27          Pennsylvania                                                                                                                         https://www.education.pa.gov/DataAndReporting/Enrollment/Pages/PublicSchEnrReports.aspx\n",
      "28          Rhode Island                                                                                                                                                                    https://www.eride.ri.gov/reports/reports.asp\n",
      "29        South Carolina                                                                                                                                          https://ed.sc.gov/data/other/student-counts/active-student-headcounts/\n",
      "30             Tennessee                                                                                                                                                                 https://tdepublicschools.ondemand.sas.com/state\n",
      "31                 Texas                                                                                                            https://tea.texas.gov/reports-and-data/school-performance/accountability-research/enroll-2022-23.pdf\n",
      "32               Vermont                                                           https://app.powerbigov.us/view?r=eyJrIjoiMzA2YWMyNjctODI0MS00YTEwLTllODctZGQ1YTE0Yjc5ZWY0IiwidCI6IjIwYjQ5MzNiLWJhYWQtNDMzYy05YzAyLTcwZWRjYzc1NTljNiJ9\n",
      "33              Virginia                                                                              https://www.doe.virginia.gov/state-board-data-funding/data-reports/statistics-reports/enrollment-demographics/fall-membership-data\n",
      "34         West Virginia                                                                                                                                                               https://zoomwv.k12.wv.us/Dashboard/dashboard/2056\n",
      "35               Wyoming                         https://reporting.edu.wyo.gov/ibi_apps/run.bip?BIP_REQUEST_TYPE=BIP_RUN&BIP_folder=IBFS%253A%252FWFC%252FRepository%252FPublic%252FStat2%252F&BIP_item=FallEnrollmentSummaryByGrade.htm\n"
     ]
    }
   ],
   "source": [
    "formatters = {\n",
    "    'source_link': (lambda x: '{:<9}'.format(x))\n",
    "}\n",
    "\n",
    "print(df.to_string(formatters=formatters, justify='left'))"
   ]
  },
  {
   "cell_type": "code",
   "execution_count": null,
   "id": "e6274020",
   "metadata": {},
   "outputs": [],
   "source": []
  }
 ],
 "metadata": {
  "kernelspec": {
   "display_name": "Python 3",
   "language": "python",
   "name": "python3"
  },
  "language_info": {
   "codemirror_mode": {
    "name": "ipython",
    "version": 3
   },
   "file_extension": ".py",
   "mimetype": "text/x-python",
   "name": "python",
   "nbconvert_exporter": "python",
   "pygments_lexer": "ipython3",
   "version": "3.12.5"
  }
 },
 "nbformat": 4,
 "nbformat_minor": 5
}
