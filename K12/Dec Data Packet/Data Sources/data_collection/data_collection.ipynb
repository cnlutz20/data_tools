{
 "cells": [
  {
   "cell_type": "code",
   "execution_count": null,
   "metadata": {},
   "outputs": [],
   "source": [
    "import os, sys, json, datetime, re  # Provides OS-dependent functionality, system-specific parameters, JSON handling, and date/time manipulation\n",
    "import pandas as pd             # Provides data structures and data analysis tools\n",
    "import numpy as np              # Supports large, multi-dimensional arrays and matrices\n",
    "import requests\n",
    "import time\n",
    "from tqdm import tqdm\n",
    "import glob as glob\n",
    "\n",
    "#thi data contants\n",
    "from cprl_functions.defined_functions import *\n",
    "from cprl_functions.state_capture import *\n",
    "from cprl_functions.text_printing import bordered\n",
    "from cprl_functions.data_packet_defs import *\n",
    "\n"
   ]
  },
  {
   "cell_type": "code",
   "execution_count": null,
   "metadata": {},
   "outputs": [],
   "source": [
    "import pull_data\n",
    "files = pull_data.get_data_files()\n",
    "print(files)"
   ]
  },
  {
   "cell_type": "code",
   "execution_count": null,
   "metadata": {},
   "outputs": [],
   "source": [
    "print_directory_tree(r'C:\\Users\\clutz\\THE HUNT INSTITUTE\\The Hunt Institute Team Site - Documents\\Policy Team\\Data Packets\\k12\\data')"
   ]
  },
  {
   "cell_type": "code",
   "execution_count": null,
   "metadata": {},
   "outputs": [],
   "source": [
    "from pathlib import Path\n",
    "\n",
    "directory = Path('.')\n",
    "for file in directory.iterdir():\n",
    "    print(file.name)\n"
   ]
  },
  {
   "cell_type": "code",
   "execution_count": null,
   "metadata": {},
   "outputs": [],
   "source": [
    "\n",
    "data_directory = Path(r'C:\\Users\\clutz\\THE HUNT INSTITUTE\\The Hunt Institute Team Site - Documents\\Policy Team\\Data Packets\\k12\\data')\n",
    "\n",
    "for file in data_directory.iterdir():\n",
    "    print(file.name)\n",
    "    if 'naep' in file.name.lower():\n",
    "        naep_file = file.name\n",
    "        break\n",
    "    elif 'data_collection' in file.name.lower():\n",
    "        data_collection_file = file\n",
    "\n",
    "\n",
    "\n",
    "# with open(data_directory / naep_file, 'r') as file:\n",
    "#     excel_file = pd.ExcelFile(file,engine='calamine')\n",
    "#     for sheet in excel_file.sheet_names:\n",
    "#         if '- 2024' in sheet:\n",
    "#             print(sheet) \n",
    "\n",
    "excel_file = pd.ExcelFile(data_directory / data_collection_file, engine='calamine')\n",
    "for sheet in excel_file.sheet_names:\n",
    "    print(sheet)\n",
    "    if 'merge' in sheet.lower():\n",
    "        merge_tags = excel_file.parse(sheet_name=sheet)\n",
    "        break\n",
    "\n",
    "print(merge_tags.to_string())\n",
    "\n",
    "\n",
    "\n",
    "# glob_pat = os.path.join(filepath, 'NAEP*.xlsx')\n",
    "# files = glob.glob(glob_pat)\n",
    "# print(merge_tags)\n",
    "# for file in filepath:\n",
    "# pd.ExcelFile()"
   ]
  },
  {
   "cell_type": "code",
   "execution_count": null,
   "metadata": {},
   "outputs": [],
   "source": [
    "def clean_str(str):\n",
    "    cl = str.lower().replace(',','').replace('(','').replace(')','').replace(\"-\",\"\").replace(\" \",\"_\").strip()\n",
    "    return cl"
   ]
  },
  {
   "cell_type": "code",
   "execution_count": null,
   "metadata": {},
   "outputs": [],
   "source": [
    "state_ref"
   ]
  },
  {
   "cell_type": "code",
   "execution_count": null,
   "metadata": {},
   "outputs": [],
   "source": [
    "def get_state_abv(text):\n",
    "    pat  = re.compile('|'.join(state_list), re.IGNORECASE)\n",
    "    match = re.search(pat, text)\n",
    "    if 'District' in match.group(0):\n",
    "        return 'DC'\n",
    "        \n",
    "    string = match.group(0)\n",
    "    abv = state_ref.get(string)\n",
    "    return abv\n"
   ]
  },
  {
   "cell_type": "code",
   "execution_count": null,
   "metadata": {},
   "outputs": [],
   "source": [
    "\n",
    "state_coding"
   ]
  },
  {
   "cell_type": "code",
   "execution_count": null,
   "metadata": {},
   "outputs": [],
   "source": [
    "def get_state_code(state_abv):\n",
    "    result = state_coding.get(state_abv)\n",
    "    # print(state_abv)\n",
    "    # print(result)\n",
    "    return str(result)"
   ]
  },
  {
   "cell_type": "code",
   "execution_count": null,
   "metadata": {},
   "outputs": [],
   "source": [
    "def pop_column(df, label):\n",
    "    popped_col = df.pop(label)\n",
    "    df.insert(0,label,popped_col)\n",
    "    return df\n"
   ]
  },
  {
   "cell_type": "code",
   "execution_count": null,
   "metadata": {},
   "outputs": [],
   "source": [
    "# clean up\n",
    "df = pd.read_csv(\"data_collection_links.csv\")\n",
    "df['state_abv'] =  df['State'].apply(get_state_abv)\n",
    "st_abv_pop = df.pop('state_abv')\n",
    "df.insert(0,'state_abv',st_abv_pop)\n",
    "\n",
    "df.columns = [clean_str(x) for x in df.columns]\n",
    "mapping = {}\n",
    "for i,col in enumerate(df.columns):\n",
    "    if i > 1:\n",
    "        mapping[col] = f'metric_{col}'\n",
    "\n",
    "df = df.rename(columns=mapping)\n",
    "df['state_code'] = df['state_abv'].apply(get_state_code)\n",
    "new_df = pop_column(df,'state_code')\n"
   ]
  },
  {
   "cell_type": "code",
   "execution_count": null,
   "metadata": {},
   "outputs": [],
   "source": [
    "new_df.to_clipboard()"
   ]
  },
  {
   "cell_type": "code",
   "execution_count": null,
   "metadata": {},
   "outputs": [],
   "source": [
    "# counting unique sources\n",
    "from collections import Counter\n",
    "statess_dicts = {}\n",
    "for row in df.itertuples(index=True):\n",
    "    print(bordered(row.state))\n",
    "    # print(row)\n",
    "    values = []\n",
    "    to_get_dict = {}\n",
    "    for col in row._fields:\n",
    "        if 'metric' not in col:\n",
    "            continue\n",
    "        val = getattr(row, col)\n",
    "        match = re.search(r'https://(.+)\\.[govcomorgedus]{2,3}/', val)\n",
    "        try:\n",
    "            new_val = match.group(1)\n",
    "        except:\n",
    "            print(col,val)\n",
    "            break\n",
    "        to_get_dict[col] = new_val\n",
    "        values.append(new_val)\n",
    "        # print(f\"{col}: {getattr(row, col)}\")\n",
    "\n",
    "    cnt = Counter(values)\n",
    "    for char, count in cnt.items():\n",
    "        print(bordered(f'{char}: {count}'))\n",
    "        for k,v in to_get_dict.items():\n",
    "            if char==v:\n",
    "                print(k)\n",
    "\n",
    "    print(to_get_dict.get(char))\n",
    "\n",
    "    statess_dicts[row.state_abv] = to_get_dict"
   ]
  },
  {
   "cell_type": "code",
   "execution_count": null,
   "metadata": {},
   "outputs": [],
   "source": [
    "Pretty"
   ]
  },
  {
   "cell_type": "code",
   "execution_count": null,
   "metadata": {},
   "outputs": [],
   "source": [
    "al_data = pd.read_csv('demographics_2024_al.csv')\n",
    "al_data"
   ]
  },
  {
   "cell_type": "code",
   "execution_count": null,
   "metadata": {},
   "outputs": [],
   "source": [
    "import pprint\n",
    "for k,v in statess_dicts.items():\n",
    "    print('______________')\n",
    "    print(k)\n",
    "    pprint.pprint(v)"
   ]
  }
 ],
 "metadata": {
  "kernelspec": {
   "display_name": "hunt_env",
   "language": "python",
   "name": "python3"
  },
  "language_info": {
   "codemirror_mode": {
    "name": "ipython",
    "version": 3
   },
   "file_extension": ".py",
   "mimetype": "text/x-python",
   "name": "python",
   "nbconvert_exporter": "python",
   "pygments_lexer": "ipython3",
   "version": "3.12.5"
  }
 },
 "nbformat": 4,
 "nbformat_minor": 2
}
